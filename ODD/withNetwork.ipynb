{
 "cells": [
  {
   "cell_type": "code",
   "execution_count": 4,
   "metadata": {},
   "outputs": [
    {
     "name": "stdout",
     "output_type": "stream",
     "text": [
      "0.5\n",
      "x0+x1+x2+x3+x4+x5+x6\n",
      "0.49999999949999996\n",
      "[0.0, 1.0, 2.0, 0.0, 1.0, 0.0, 0.0]\n",
      "1.5\n"
     ]
    },
    {
     "data": {
      "image/png": "[encoded data removed]",
      "text/plain": [
       "<Figure size 432x288 with 1 Axes>"
      ]
     },
     "metadata": {},
     "output_type": "display_data"
    }
   ],
   "source": [
    "def breakProcess(graph,theta,beta):\n",
    "    # 获取点集 点的数量\n",
    "    nodeList = list(graph.nodes)\n",
    "    nodeNum = len(list(graph.nodes))\n",
    "    # 负载矩阵以及容量矩阵\n",
    "    load_matrix = np.zeros((1,n))\n",
    "    cap_matrix = np.zeros((1,n))\n",
    "    # 从边集合中取出十分之一的点，依次断裂\n",
    "    selectNumber = int(nodeNum)\n",
    "    selectNodeList = random.sample(nodeList, selectNumber)\n",
    "    T = 0\n",
    "    # 赋值负载矩阵以及容量矩阵\n",
    "    for item in nodeList:\n",
    "        load=graph.degree(item)**beta  #beta\n",
    "        cap = round(load*T,3)\n",
    "        load_matrix[0][item]=load\n",
    "        cap_matrix[0][item]=cap\n",
    "    for iteml in selectNodeList:\n",
    "        neighborSum = 0\n",
    "        PointList = list(graph.neighbors(iteml))       \n",
    "        if(iteml in PointList):\n",
    "            PointList.remove(iteml)\n",
    "        # for litem in PointList:\n",
    "            # neighborSum = neighborSum + ((graph.degree(litem))**theta)   \n",
    "        neighborSum = (graph.degree(iteml))   \n",
    "        Tmax = 0\n",
    "        Ttemp = load_matrix[0][iteml] \n",
    "        for litem in PointList:\n",
    "            Ttemp = (load_matrix[0][iteml])/(neighborSum*load_matrix[0][litem])\n",
    "            if(Ttemp>Tmax):\n",
    "                Tmax = Ttemp\n",
    "        if(T <Tmax):\n",
    "            T = Tmax\n",
    "    return T+1\n",
    "\n",
    "\n",
    "\n",
    "\n",
    "########################################################################\n",
    "# 级联故障两种/三种策略的理论曲线\n",
    "# 2020-11-23 20:00\n",
    "# BDBDSBD\n",
    "########################################################################\n",
    "import sys\n",
    "# sys.setrecursionlimit(40000)  # 如果递归出现爆栈问题，就用这句话\n",
    "import networkx as network\n",
    "import matplotlib.pyplot as plot\n",
    "import math\n",
    "import numpy as np\n",
    "import random\n",
    "import copy\n",
    "from scipy.optimize import minimize\n",
    "import numpy as np\n",
    "from pyscipopt import Model\n",
    "########################################################################\n",
    "# 构造网络，节点数为n，度为2*2，制作网络结构的浅拷贝\n",
    "start = -0.5\n",
    "end = 1.5\n",
    "Xlist =  np.linspace(start,end,40)\n",
    "Ymatrix = np.zeros((6,len(Xlist)))\n",
    "ttTime = 1\n",
    "for tt in range(ttTime):\n",
    "    n = 7\n",
    "    addEdge = 4\n",
    "    beta = 1\n",
    "    theta = 0\n",
    "    # networkName = 'BA'\n",
    "    # if(networkName == 'BA'):\n",
    "    #     networkChoose = network.barabasi_albert_graph(n,5)\n",
    "    # if(networkName == 'WS'):        \n",
    "    #     networkChoose = network.watts_strogatz_graph(n,12,0.1)\n",
    "    # if(networkName == 'ER'):  \n",
    "    #     networkChoose = network.erdos_renyi_graph(n, 12/n)\n",
    "    networkChoose = network.Graph() \n",
    "    networkChoose.add_nodes_from([0,1,2, 3,4,5,6])\n",
    "    networkChoose.add_edge(0,2)\n",
    "    networkChoose.add_edge(0,3)\n",
    "    networkChoose.add_edge(2,3)\n",
    "    networkChoose.add_edge(2,5)\n",
    "    networkChoose.add_edge(2,1)\n",
    "    networkChoose.add_edge(2,4)\n",
    "    networkChoose.add_edge(2,6)\n",
    "    networkChoose.add_edge(1,5)\n",
    "    networkChoose.add_edge(1,4)\n",
    "    networkChoose.add_edge(6,4)\n",
    "\n",
    "    inittup = ()\n",
    "    tup = ()\n",
    "    tupK = ()\n",
    "    tupM = ()\n",
    "    for i in range(n):\n",
    "        inittup = inittup + (0,)\n",
    "        tup = tup + (networkChoose.degree(i),)\n",
    "        tupK = tupK + (networkChoose.degree(i)**beta,)\n",
    "        PointList = list(networkChoose.neighbors(i))\n",
    "        if(PointList == []):\n",
    "            continue\n",
    "        PointList = list(set(PointList))\n",
    "        if(i in PointList):\n",
    "            PointList.remove(i)\n",
    "        maxNeighborDegree = 1000\n",
    "        for litem in PointList:\n",
    "            if(maxNeighborDegree>networkChoose.degree(litem)):\n",
    "                maxNeighborDegree=networkChoose.degree(litem)\n",
    "        tupM = tupM + (maxNeighborDegree**beta,)\n",
    "#     print(tup)\n",
    "#     print(tupK)\n",
    "#     print(tupM)\n",
    "LLL = []\n",
    "for i in range(n):\n",
    "    LLL.append(tupK[i]/(tupM[i]*(tup[i])))\n",
    "print(max(LLL))\n",
    "\n",
    "Listadd = []\n",
    "md = Model()\n",
    "names = locals()\n",
    "stringN = ''\n",
    "for i in range(n):\n",
    "    names['x' + str(i) ] = md.addVar('x', lb=0, vtype='I')\n",
    "    stringN = stringN + 'x'+str(i)+'+'\n",
    "print(stringN[:-1])\n",
    "z = md.addVar('z')\n",
    "md.setObjective(z, sense='minimize')\n",
    "# for i in range(n):\n",
    "#     md.addCons(2*x + y <= 8)\n",
    "for i in range(n):\n",
    "    md.addCons(tupK[i]/(tupM[i]*(tup[i]+ names['x' + str(i) ]))<=z)\n",
    "md.addCons(x0+x1+x2+x3+x4+x5+x6<=addEdge)\n",
    "md.optimize()\n",
    "sol = md.getBestSol()\n",
    "for i in range(n):\n",
    "    Listadd.append(sol[names['x' + str(i) ]])\n",
    "# print(Listadd)\n",
    "print(sol[z])\n",
    "print(Listadd)\n",
    "network.draw(networkChoose, with_labels=True, font_weight='bold')\n",
    "\n",
    "flagCircle = 0\n",
    "# for beta in Xlist:\n",
    "theta = 0\n",
    "flagCircle = flagCircle%(len(Xlist))\n",
    "networkChooseCopy = networkChoose.copy()\n",
    "flag = copy.copy(flagCircle)\n",
    "networkChooseCopy = networkChoose.copy()\n",
    "Ymatrix[0][flag]=Ymatrix[0][flag] +  breakProcess(networkChooseCopy,theta,beta)\n",
    "print(breakProcess(networkChooseCopy,theta,beta))\n",
    "    # print(beta,'beta')\n",
    "flagCircle = flagCircle + 1"
   ]
  },
  {
   "cell_type": "code",
   "execution_count": 5,
   "metadata": {},
   "outputs": [
    {
     "data": {
      "text/plain": [
       "[<matplotlib.lines.Line2D at 0x232be678408>]"
      ]
     },
     "execution_count": 5,
     "metadata": {},
     "output_type": "execute_result"
    },
    {
     "data": {
      "image/png": "[encoded data removed]",
      "text/plain": [
       "<Figure size 360x648 with 1 Axes>"
      ]
     },
     "metadata": {
      "needs_background": "light"
     },
     "output_type": "display_data"
    }
   ],
   "source": [
    "plot.figure(figsize=(5,9))\n",
    "plot.plot(Xlist,Ymatrix[0,:]/ttTime,label='INIT')"
   ]
  }
 ],
 "metadata": {
  "interpreter": {
   "hash": "01684f973e668a128d25b6066d78e256f01f47abf1639f28ab5374a3d1a0a601"
  },
  "kernelspec": {
   "display_name": "Python 3.7.6 64-bit ('base': conda)",
   "language": "python",
   "name": "python3"
  },
  "language_info": {
   "codemirror_mode": {
    "name": "ipython",
    "version": 3
   },
   "file_extension": ".py",
   "mimetype": "text/x-python",
   "name": "python",
   "nbconvert_exporter": "python",
   "pygments_lexer": "ipython3",
   "version": "3.7.6"
  },
  "orig_nbformat": 4
 },
 "nbformat": 4,
 "nbformat_minor": 2
}
